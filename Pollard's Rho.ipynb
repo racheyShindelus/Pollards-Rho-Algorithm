{
 "cells": [
  {
   "cell_type": "markdown",
   "metadata": {},
   "source": [
    "# Pollard's Rho Algorithm\n",
    "Pollard's rho algorithm is an algorithm for integer factorization. It was invented by John Pollard in 1975. It uses only a small amount of space, and its expected running time is proportional to the square root of the size of the smallest prime factor of the composite number being factorized."
   ]
  },
  {
   "cell_type": "code",
   "execution_count": null,
   "metadata": {},
   "outputs": [],
   "source": [
    "from math import gcd, sqrt\n",
    "\n",
    "def g(x):\n",
    "  return x*x + 1\n",
    "\n",
    "# Factor n using Pollard's rho algorithm.\n",
    "# Returns a factor or False if it was unable\n",
    "# to find one.\n",
    "def pollardsRho(n):\n",
    "  x = 2\n",
    "  y = 2\n",
    "  d = 1\n",
    "  while d == 1:\n",
    "    x = g(x) % n\n",
    "    y = g(g(y)) % n\n",
    "    d = gcd(abs(y - x), n)\n",
    "  if d == n:\n",
    "    return False\n",
    "  else:\n",
    "    return d\n",
    "\n",
    "# Factor n using trial division (a loop).\n",
    "# Left here for comparison purposes.\n",
    "def trialDivision(n):\n",
    "  for s in range(2, int(sqrt(n))):\n",
    "    if n % s == 0:\n",
    "      return s"
   ]
  },
  {
   "cell_type": "markdown",
   "metadata": {},
   "source": [
    "Compare `trialDivision` to `pollardsRho`. The former takes a few seconds to run. The latter is almost instantaneous."
   ]
  },
  {
   "cell_type": "code",
   "execution_count": null,
   "metadata": {},
   "outputs": [],
   "source": [
    "trialDivision(5169024038630897)"
   ]
  },
  {
   "cell_type": "code",
   "execution_count": null,
   "metadata": {},
   "outputs": [],
   "source": [
    "pollardsRho(5169024038630897)"
   ]
  }
 ],
 "metadata": {
  "kernelspec": {
   "display_name": "Python 3",
   "language": "python",
   "name": "python3"
  },
  "language_info": {
   "codemirror_mode": {
    "name": "ipython",
    "version": 3
   },
   "file_extension": ".py",
   "mimetype": "text/x-python",
   "name": "python",
   "nbconvert_exporter": "python",
   "pygments_lexer": "ipython3",
   "version": "3.7.6"
  }
 },
 "nbformat": 4,
 "nbformat_minor": 4
}
